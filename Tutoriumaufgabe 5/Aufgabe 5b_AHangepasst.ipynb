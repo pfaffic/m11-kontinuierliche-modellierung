{
 "cells": [
  {
   "cell_type": "markdown",
   "metadata": {
    "collapsed": false
   },
   "source": [
    "### Kommentare A. Hundertmark\n",
    "1. Sind die Anfangswerte für ihre Modellierung realistisch kallibriert? Anscheindend haben Sie Einheiten gemischt, rechnen Sie in Einwohner pro km^2 oder in Tausend Einwohner pro km^2 (siehe initial-function und der Wert B). Entsprechend Skala in den Bildern anpassen.\n",
    "2. Ihre  Bevölkerungsdiche stimmt nicht  mit dem Auschnitt des Bildes Monitor... überein: dunkle Quadrate stellen hohen Wert dar, wobei bei Ihnen scheinen hier die kleinsten Werte sein, interprätieren Sie das Bild richtig! Sie müssen die Werte umdrehen,  siehe meine Kommentare im Code mit %AH.\n",
    "\n",
    "3. Die Slowdown Funktion ist wirkürlich gewählt (? zumindest scheint es mir so zu sein im Bezug auf die Wahl von max. Zeit T=32  Tagen), benutzen Sie realistische Modellierung der sinkenden Infektionsrate (in den ersten 80 Tagen der  Daten) aus Tutoriumaufgabe 3, die Anhand von RKI Daten festgelegt wurde, oder begründen Sie Ihre Wahl-passt die Infektionsrate zu dem Geschehen der letzen Monate?\n",
    " \n",
    "4. Infektionsrate zu niedrig gewählt?\n",
    "\n",
    "5. Stellen Sie die absolute Zahlen der Infizierten dar mithilfe der Multiplikaton der Dichtefunktion mit entsprechender Fläche.\n",
    "6. Modellierungsziell: Wann erreichen die Infiziertenzahllen die Bevölkerungszahlen? (evetuell längere Zeiten berechnen)\n",
    "\n",
    "\n",
    "7. Zuletz: beachte die Kommentare zur Teilaufgabe a)- konkrete  und eigene Modellierung mit Regionalbezug."
   ]
  },
  {
   "cell_type": "code",
   "execution_count": 1,
   "metadata": {
    "collapsed": false,
    "scrolled": true
   },
   "outputs": [
    {
     "name": "stdout",
     "output_type": "stream",
     "text": [
      "ans =\r\n",
      "\r\n",
      "   39   62\r\n",
      "\r\n"
     ]
    },
    {
     "name": "stdout",
     "output_type": "stream",
     "text": [
      "ans =\r\n",
      "\r\n",
      "   136    82     3\r\n",
      "\r\n"
     ]
    },
    {
     "name": "stdout",
     "output_type": "stream",
     "text": [
      "ans =\r\n",
      "\r\n",
      "   2418      1\r\n",
      "\r\n"
     ]
    }
   ],
   "source": [
    "%Author Anna Hundertmark 2020\n",
    " \n",
    "%Dieses Skript loest die instationaere Diffusionsgleichung mit Finiten Differenzen Verfahren\n",
    "% an einem Rechteckigem Gebiet D=(0,Xend)x(0,Yend) mit einem konstanten Diffusionskoeffizienten\n",
    "% auf einem aus Qudraten bestehendem Gitter.\n",
    "\n",
    "%Funktionsparameter: N-Anzahl von Gitterpunkten in x Richtung  (0-te und N-te Index entsprechen den Rändern) \n",
    "%definiere Gebiet\n",
    "\n",
    "close all\n",
    "clear all\n",
    " \n",
    " %------Eingabe--------- \n",
    "  xend=8; %in km\n",
    "  yend=5.0; %in km\n",
    "  N=60; %N-Anzahl von Gitterpunkten in x Richtung  (0-te und N-te Index entsprechen den Rändern)\n",
    "   a=0.1; %(konstanter Diffusionskoeffizient)\n",
    "   %AH längere Zeiten getestet\n",
    "   T=122; %(Zeitintervall in Tagen)\n",
    "   delta_t=0.03; %(Zeitschritt pro Tag)\n",
    "\n",
    "\n",
    "\n",
    "%-----------------------------------------------------------------------------------------------------------\n",
    "   %Für Reaktionsdiffusionsgleichung:\n",
    "   B=232;\n",
    "   c=0.03238;    %(Infektionsrate, Vorsicht k=c/B in unserem Modell k.u.(B-u)-w.u)\n",
    "   \n",
    "   % AH Infektionsrate zu niedrig kallibriert\n",
    "   \n",
    "   %function val=slowdown(x,t)\n",
    "   % Ab Tag t (Argument der Funktion) wir die Infektionsrate  in mehreren Schritten sinken:\n",
    "   %if x<t val=1 ; \n",
    "   % else  if x<t +10 val=t./(x.^1.05); \n",
    "   % else if x<t +22 val=t./(x.^1.2); \n",
    "   % else val=t./(x.^1.27)  ;\n",
    "   %endif\n",
    "   %endif\n",
    "   %endif\n",
    "  %Beispielhafte Lockerung der Maßnahmen ab Tag 80, die die Infektionsrate wieder auf 50 % der Basisinfektionsrate erhöht\n",
    "  %(um den Effekt der Lockerung zu beobachten)\n",
    "  %if x> 80  val=0.5; endif\n",
    "  %endfunction\n",
    "  \n",
    "   w=1/14; %Wechselrate von Infiziert zu Genesen oder Toten\n",
    "    %--------------\n",
    "  \n",
    "  \n",
    "  hx=xend/(N+1);\n",
    "  hy=hx;\n",
    "  M=floor((yend/hy))-1;\n",
    "  Nr_timesteps=floor (T/delta_t);\n",
    " \n",
    "\n",
    "\n",
    " %---- Anfangsfunktion -------------\n",
    "  \n",
    " function wert=initialfunction(x,y)\n",
    " %Ah hier eigene Ideen gefragt.\n",
    "  wert=0;\n",
    "  r1=0.35;\n",
    "  r2=0.15;\n",
    "  if sqrt((x.-6.25).^2+(y.-3).^2)<=r1 wert=1/(pi*r1^2);\n",
    "    elseif  sqrt((x.-2.25).^2+(y.-2).^2)<=r2 wert=0.5/(pi*r2^2);\n",
    "  endif\n",
    "  %AH dies bedeuten 1 oder halber Einwohner in dem Umkreis mit Radi r1 und r2. Also warum haben SIe es weiter noch mit 0.01 multipliziert? (rechnen Sie in richtigen Enheiten, kallibrieren Sie richtig)\n",
    "  \n",
    " endfunction\n",
    " \n",
    "  %--------------------\n",
    "    %Koordinatenmatrix\n",
    "  %--------------------\n",
    "  \n",
    "  %Neumann RB, \n",
    "  %erweitertes Gitter um die  Randpunkte \n",
    "  \n",
    "  [x,y]=meshgrid(0:hx:xend,0:hy:yend);\n",
    "  N=N+2;\n",
    "  M=M+2;\n",
    " \n",
    "  \n",
    "% Systemmatrix\n",
    "%-------------------------------------------\n",
    "  Vec1=ones(N*M,1); % erzeugt vektor der  Laenge N*M\n",
    "  BB=diag(-4.*Vec1,0)+diag(ones(N*M-1,1),1)+ diag(ones(N*M-1,1),-1)+diag(ones(N*(M-1),1),N)+diag(ones(N*(M-1),1),-N);\n",
    "  % Systemmatrix N^2xN^2 mit -4 auf der Diagonale und 1 auf den Nebendiagonalen \n",
    "  %und 1 auf den N und -N-ter Nebendiagonale \n",
    "  \n",
    "  \n",
    "%Korrektur der Matrix (Blockdiagonalitaet)\n",
    "  for  i=1:(M-1) \n",
    "      BB(i*N+1,i*N)=0;BB(i*N,i*N+1)=0;\n",
    "  endfor\n",
    "  \n",
    " \n",
    "%------------------------------------------- \n",
    "  % Matrix mit Diffkoeff/h^2 multiplizieren\n",
    "%-------------------------------------------\n",
    "  BB=BB*a/hx^2;\n",
    "  %--------------------------\n",
    "  %RANDBEDINGUNGEN\n",
    "  %-------------------------------------------\n",
    "  % Neumann RB für y:   a* partial_y u=0   - einzelne Blücke der Matrix ersetzen\n",
    "    block=diag((a/hx)*ones(N,1));\n",
    "    %unterer Rand\n",
    "    BB(1:N,1:N)=-block;\n",
    "    BB(1:N,N+1:2*N)=block;\n",
    "   %Auskommenteren heisst 0 Dirichlet\n",
    "   %oberer Rand\n",
    "   BB(N*(M-1)+1:N*M,N*(M-1)+1:N*M)=-block;\n",
    "   BB(N*(M-1)+1:N*M,N*(M-2)+1:N*(M-1))=block;\n",
    "   %--------------------------\n",
    "  % Neumann RB für x:   a* partial_x u=0 - einzelne Zeilen der Matrix ersetzen\n",
    " \n",
    "  for i=1:(M-2)% bei full neumann 0:(M-1)\n",
    "    vector_up=zeros(1,N*M);\n",
    "    vector_up(N*i+1)=a/hx;\n",
    "    vector_up(N*i+2)=-a/hx;\n",
    "    vector_down=zeros(1,N*M);\n",
    "    vector_down(N*i+N)=a/hx;\n",
    "    vector_down(N*i+N-1)=-a/hx;\n",
    "    BB(i*N+1,:)  =-vector_up ;\n",
    "    BB(i*N+N,:)  =-vector_down ;\n",
    "   endfor\n",
    " %-------------------------------------------\n",
    "\n",
    "  %Matrixdarstellung - optional\n",
    "  figure (11);\n",
    "  spy (BB);\n",
    "  xlabel(\"Spalten\")\n",
    "  ylabel(\"Zeilen\")\n",
    "  zlabel(\"Matrix B\")\n",
    "  title (\"Systematrix B\");\n",
    "  \n",
    " %Anfangsl�sung als Matrix\n",
    " %-------------------------------------------\n",
    "  for  i=1:N\n",
    "  for j=1:M\n",
    "   %%AH schlecht kallibriert\n",
    "   %%initial(j,i)=0.01*initialfunction(x(j,i),y(j,i));\n",
    "   %0.005 und 0.01 (in Tausend) d.h. 5 und 10 pro gegebene Fl�che pi*R^2\n",
    "   \n",
    "   % AH ich habe in meiner Modellierung in Einheiten Tausend EW/km2 gerechnet, Sie rechnen in EW/km2 und somit haben sie sehr geringe Anfangsbedingungen gewählt.\n",
    "   % besser wäre folgendes, was ca 5 Infizierten in dem kleinem Kreis mit r=0.15 km darstellt...siehe die untere Zelle\n",
    "   initial(j,i)=10*initialfunction(x(j,i),y(j,i));\n",
    "  endfor  \n",
    "  endfor\n",
    "  %-----------\n",
    "    \n",
    "  \n",
    "  size (initial)\n",
    "  sol_old=1*reshape(initial',N*M,1);\n",
    "  \n",
    " \n",
    "  %reshape funktioniert Spaltenm�ssig: Sp1,Sp2, wir wollen Zeilenm�ssig\n",
    "  %Matrix f' ist N(Zeilen)x M(Spalten)\n",
    "  \n",
    "  \n",
    "  %----------------------------------------------------\n",
    "%Graphik einlesen und \n",
    "%Geeigneter Auschnitt wählen, Matrix A ist eine 3D Matrix\n",
    "%----------------------------------------------------\n",
    " A=imread ('Monitor_Einwohnerzahl_detail.png');\n",
    " % AH Bildnamhme angepasst, ich ahtte andreses Bild zur Verfügung\n",
    "\n",
    "size(A) % Zeigt die Dimension der Bildmatrix\n",
    " S=A(30:34,70:77,2);\n",
    " \n",
    "%Bilddarstellung \n",
    "%----------------------------------------------------\n",
    "imshow(S)\n",
    "\n",
    "\n",
    "\n",
    "%Inversion von unit8 zu double format\n",
    "%----------------------------------------------------\n",
    " S=double (S);\n",
    " [s1 s2]=size(S);\n",
    " Max=max(max(S));\n",
    "\n",
    " %AH: S stellt die Farbenwerte dar: 0-Wert heißt schwarz, Hoher Wert heisst wenig farebe bis weiss, daher die Werte von S umkehren um die Populationszahlen darzustellen\n",
    "% sowas: \n",
    "S=abs(S-Max);\n",
    " \n",
    "%Interpolation der Werte an die Koordinatenmatrix der numerischen Berechnung\n",
    " %----------------------------------------------------\n",
    " \n",
    " % AH warum diese Zeile?- diese verschiebt die Werte etwas. Finden Sie einen anderen,  eigenen Weg oder begründen Sie diese Zeile.\n",
    " Sint=interp2(S,xend*(1*x.+2)/(xend+2),yend*(1*y.+2)/(yend+2), 'cubic');\n",
    " \n",
    " \n",
    " %% alternativ \n",
    " %%Sint=interp2(S,x,y, 'cubic');\n",
    " \n",
    " %y-Koordinate im Image läuft von oben nach unten, Bild flippen oben <-> unten\n",
    " Sint=flipud (Sint);\n",
    "  \n",
    " figure(Nr_timesteps+2);\n",
    " surface(x,y, (B/Max)*Sint)\n",
    " title (\"Bevoelkerungsdichte\");\n",
    " ylabel(\"y\")\n",
    " xlabel(\"x\")\n",
    " colorbar\n",
    " \n",
    " %----------------------------------------------------\n",
    " %Skalierung auf max. Wert B, \n",
    " %Korrektur der Bevölkerungsdichte (keine Null-Einträge) und\n",
    " %Assemblierung der Matrix in ein Vektor\n",
    " %------------------------------------------------------\n",
    " B=abs(reshape((B/Max)*Sint',N*M,1) .+0.1);\n",
    " size (B)\n",
    " B=230;\n",
    "  \n",
    " %Slowdown für c\n",
    "  function c=C(i,t);\n",
    "  %AH C ist hier eine Funktion des Zeitindexes und nicht der Zeitvariable, aber es kann auch so programmiert werden.\n",
    "    T1=floor(t/4);\n",
    "    T2=2*T1;\n",
    "    T3=3*T1;\n",
    "    if(i<=T1)\n",
    "      c=0.03238;\n",
    "    elseif(i<=T2)\n",
    "      c=0.01238;\n",
    "    elseif(i<=T3)\n",
    "      c=0.04238;\n",
    "    else\n",
    "      c=0.03238;\n",
    "    endif\n",
    "  endfunction\n",
    "  %-------------------------------------------------\n",
    "  % LOESUNGSSCHRITT: explizites Eulerverfahren\n",
    "  %-------------------------------------------------\n",
    "  % Hier kann Reaktionsterm  für kumulierte  oder aktielle Infizierte\n",
    "  %implementiert werden\n",
    "  %F=@(u)(c./B).*u.*(B-u); %kumuliert Infizierte\n",
    "  %Reaktionsterm aktuell Infizierte\n",
    "%  F=@(u)(c./B).*u.*(B-u)-w.*u;\n",
    " % AH: nach der aktualisierung des Wissensstandes kann man mit einer Reaktionsdiffusionsgleichung  nur die Gesammtinfizierten modellieren, daher nehmen Sie\n",
    "  F=@(u)(c./B).*u.*(B-u);\n",
    "  \n",
    "  %AH hier war Fehler!!! Komponentenweise Multiplikation!!! (B und u sind Vektoren)\n",
    " % F=@(u)(c./B).*u.*(B.-u);\n",
    " \n",
    " \n",
    " \n",
    " \n",
    "  for i=1:Nr_timesteps\n",
    "  c=10*C(i,Nr_timesteps);\n",
    " %AH Realistisch sind wahrscheinlich höhere c?\n",
    "  \n",
    "  sol= sol_old+ BB*sol_old*delta_t + 1*F(sol_old)*delta_t;\n",
    " \n",
    "  sol_old=sol;\n",
    "  matrix_solution(:,i)=sol;\n",
    "\n",
    "endfor\n",
    "\n",
    "% Auswahl an Bildern dr�cken, jedeS zehnte Bild\n",
    "fig_index=floor([0.1:0.1:1]*Nr_timesteps)\n",
    "j=0;\n",
    " for i=fig_index\n",
    "  sol_matrix=reshape(matrix_solution(:,i),N,M);% Matrix mit N(Zeilen)x M(Spalten)\n",
    "  sol_matrix=sol_matrix';\n",
    "  disp(['Figure ',num2str(i/fig_index(1))]);\n",
    "  j=j+1;\n",
    "  figure(j);\n",
    "  surfc(x,y,sol_matrix*hx^2 , \"EdgeColor\", \"none\")\n",
    "  \n",
    " % AH wenn Sie hier sol_matrix*hx^2 anstatt sol_matrix plotten, erhalten Sie die Zahlen der Infizierten pro Flaeche hx^2, aslp pro Pixel.\n",
    " \n",
    " % colormap: autumn,  hsv jet ocean\n",
    "  colormap (\"jet\")\n",
    "  colorbar\n",
    "  axis([0 xend 0 yend 0.00 max(max (B))*hx^2])\n",
    "  %AH hier wähle Skala das sich an die Bevölkerungsdichte bzw an die Infiziertenzahlen orientiert\n",
    "  title ([\"Loesung in t=\", num2str(delta_t*i)]);\n",
    "  ylabel(\"y\")\n",
    "  xlabel(\"x\")\n",
    "  %Optional: Speicherung der Bilder\n",
    "  test=[\"akt-b-Fig_\", num2str(j),\".jpg\"]\n",
    "  saveas(j, test)\n",
    "endfor\n",
    "%-------------------------------------------------\n",
    "  \n",
    "  \n",
    "  %weiteres Bild mit Anfangsfunktion\n",
    "  figure(Nr_timesteps+1);\n",
    "  surfc(x,y,initial*hx^2 );\n",
    "  % AH wenn Sie hier sol_matrix*hx^2 anstatt sol_matrix plotten, erhalten Sie die Zahlen der Infizierten pro Flaeche hx^2, aslp pro Pixel.\n",
    " \n",
    "  title (\"Anfangsloesung\");\n",
    "  ylabel(\"y\")\n",
    "  xlabel(\"x\")\n",
    "  "
   ]
  },
  {
   "cell_type": "code",
   "execution_count": 2,
   "metadata": {
    "collapsed": false
   },
   "outputs": [
    {
     "data": {
      "image/png": "[encoded data removed]",
      "text/plain": [
       "<IPython.core.display.Image object>"
      ]
     },
     "execution_count": 2,
     "metadata": {
     },
     "output_type": "execute_result"
    }
   ],
   "source": [
    " for  i=1:N\n",
    "  for j=1:M\n",
    "   %%AH schlecht kallibriert\n",
    "   %%initial(j,i)=0.01*initialfunction(x(j,i),y(j,i));\n",
    "   %0.005 und 0.01 (in Tausend) d.h. 5 und 10 pro gegebene Fl�che pi*R^2\n",
    "   \n",
    "   % AH ich habe in meiner Modellierung in Einheiten Tausend EW/km2 gerechnet, Sie rechnen in EW/km2 und somit haben sie sehr geringe Anfangsbedingungen gewählt.\n",
    "   % richtig wäre folgendes, was 10 und 5 Infizieren pro Kreis darstellen würde\n",
    "   initial(j,i)=10*initialfunction(x(j,i),y(j,i));\n",
    "  endfor  \n",
    "  endfor\n",
    "\n",
    "figure(Nr_timesteps+1);\n",
    "  surface(x,y,initial*hx^2);\n",
    "  % AH wenn Sie hier sol_matrix*hx^2 anstatt sol_matrix plotten, erhalten Sie die Zahlen der Infizierten pro Flaeche hx^2, aslp pro Pixel.\n",
    " \n",
    "  title (\"Anfangsloesung\");\n",
    "  colorbar\n",
    "  ylabel(\"y\")\n",
    "  xlabel(\"x\")"
   ]
  },
  {
   "cell_type": "code",
   "execution_count": 3,
   "metadata": {
    "collapsed": false
   },
   "outputs": [
    {
     "data": {
      "image/png": "[encoded data removed]",
      "text/plain": [
       "<IPython.core.display.Image object>"
      ]
     },
     "execution_count": 3,
     "metadata": {
     },
     "output_type": "execute_result"
    }
   ],
   "source": [
    "figure(Nr_timesteps+2);\n",
    " surface(x,y, (232/Max)*Sint.*hx^2)\n",
    " title (\"Bevoelkerungsanzahl\");\n",
    " ylabel(\"y\")\n",
    " xlabel(\"x\")\n",
    " colorbar"
   ]
  },
  {
   "cell_type": "code",
   "execution_count": 4,
   "metadata": {
    "collapsed": false
   },
   "outputs": [
    {
     "name": "stdout",
     "output_type": "stream",
     "text": [
      "c =  0.32380\r\n"
     ]
    }
   ],
   "source": [
    "c"
   ]
  },
  {
   "cell_type": "code",
   "execution_count": 5,
   "metadata": {
    "collapsed": false
   },
   "outputs": [
    {
     "data": {
      "image/png": "[encoded data removed]",
      "text/plain": [
       "<IPython.core.display.Image object>"
      ]
     },
     "execution_count": 5,
     "metadata": {
     },
     "output_type": "execute_result"
    }
   ],
   "source": [
    " sol_matrix=reshape(matrix_solution(:,Nr_timesteps),N,M);% Matrix mit N(Zeilen)x M(Spalten)\n",
    "  sol_matrix=sol_matrix';\n",
    " \n",
    " figure(Nr_timesteps+11);\n",
    "  surface(x,y,sol_matrix*hx^2);\n",
    "  % AH wenn Sie hier sol_matrix*hx^2 anstatt sol_matrix plotten, erhalten Sie die Zahlen der Infizierten pro Flaeche hx^2, aslp pro Pixel.\n",
    " \n",
    "  title (\"Anfangsloesung\");\n",
    "  colorbar\n",
    "  ylabel(\"y\")\n",
    "  xlabel(\"x\")"
   ]
  },
  {
   "cell_type": "code",
   "execution_count": 0,
   "metadata": {
    "collapsed": false
   },
   "outputs": [
   ],
   "source": [
   ]
  }
 ],
 "metadata": {
  "kernelspec": {
   "display_name": "Octave",
   "language": "octave",
   "name": "octave"
  },
  "language_info": {
   "file_extension": ".m",
   "help_links": [
    {
     "text": "GNU Octave",
     "url": "https://www.gnu.org/software/octave/support.html"
    },
    {
     "text": "Octave Kernel",
     "url": "https://github.com/Calysto/octave_kernel"
    },
    {
     "text": "MetaKernel Magics",
     "url": "https://metakernel.readthedocs.io/en/latest/source/README.html"
    }
   ],
   "mimetype": "text/x-octave",
   "name": "octave",
   "version": "5.2.0"
  }
 },
 "nbformat": 4,
 "nbformat_minor": 4
}